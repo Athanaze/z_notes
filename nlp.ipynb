{
 "cells": [
  {
   "cell_type": "markdown",
   "metadata": {},
   "source": [
    "# Viterbi Algorithm\n",
    "\n",
    "\n",
    "$\\gamma(\\mathbf{w}, t_N) \\leftarrow 1$\n",
    "\n",
    "$$\n",
    "\\textbf{for } n \\leftarrow N-1, \\ldots, 0 :\\\\\n",
    "\\gamma(\\mathbf{w}, t_n) \\leftarrow \\max_{t_{n+1} \\in \\mathcal{T}} \\exp\\left\\{\\text{score}( (t_n, t_{n+1}), \\mathbf{w}) \\right\\} \\times \\gamma(\\mathbf{w}, t_{n+1})\n",
    "$$\n",
    "\n",
    "# Backward Algorithm\n",
    "\n",
    "$\\beta(\\mathbf{w}, t_N) \\leftarrow 1$\n",
    "\n",
    "$\\textbf{for}$ $n \\leftarrow N-1, \\ldots, 0$:\n",
    "\n",
    "\\[\n",
    "\\beta(\\mathbf{w}, t_n) \\leftarrow \\sum_{t_{n+1} \\in \\mathcal{T}} \\exp\\left\\{\\text{score}( (t_n, t_{n+1}), \\mathbf{w}) \\right\\} \\times \\beta(\\mathbf{w}, t_{n+1})\n",
    "\\]"
   ]
  }
 ],
 "metadata": {
  "language_info": {
   "name": "python"
  }
 },
 "nbformat": 4,
 "nbformat_minor": 2
}
