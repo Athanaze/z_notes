{
 "cells": [
  {
   "cell_type": "markdown",
   "metadata": {},
   "source": [
    "# Viterbi Algorithm\n",
    "\n",
    "\n",
    "$\\gamma(\\mathbf{w}, t_N) \\leftarrow 1$\n",
    "\n",
    "$$\n",
    "\\textbf{for } n \\leftarrow N-1, \\ldots, 0 :\\\\\n",
    "\\gamma(\\mathbf{w}, t_n) \\leftarrow \\max_{t_{n+1} \\in \\mathcal{T}} \\exp\\left\\{\\text{score}( (t_n, t_{n+1}), \\mathbf{w}) \\right\\} \\times \\gamma(\\mathbf{w}, t_{n+1})\n",
    "$$\n",
    "\n",
    "# Backward Algorithm\n",
    "\n",
    "$\\beta(\\mathbf{w}, t_N) \\leftarrow 1$\n",
    "\n",
    "$\\textbf{for}$ $n \\leftarrow N-1, \\ldots, 0$:\n",
    "\n",
    "\\[\n",
    "\\beta(\\mathbf{w}, t_n) \\leftarrow \\sum_{t_{n+1} \\in \\mathcal{T}} \\exp\\left\\{\\text{score}( (t_n, t_{n+1}), \\mathbf{w}) \\right\\} \\times \\beta(\\mathbf{w}, t_{n+1})\n",
    "\\]"
   ]
  },
  {
   "cell_type": "markdown",
   "metadata": {},
   "source": [
    "# Lambda calculus\n",
    "\n",
    "Fair exam questions:\n",
    "\n",
    "- Simplify this lambda expression => apply beta converstion\n",
    "- Are this two lambda expressions equivalent ?"
   ]
  },
  {
   "cell_type": "markdown",
   "metadata": {},
   "source": [
    "• In the tropical semiring, the Kleene operator is given by x^∗ = 0, ∀x, meaning\n",
    "\n",
    "that the expression on Line 7 simplifies."
   ]
  },
  {
   "cell_type": "code",
   "execution_count": null,
   "metadata": {
    "vscode": {
     "languageId": "plaintext"
    }
   },
   "outputs": [],
   "source": [
    "\n"
   ]
  },
  {
   "cell_type": "markdown",
   "metadata": {},
   "source": [
    "# Probabilistic context free grammars\n",
    "\n",
    "- PCFGs are locally normalized\n",
    "\n",
    "for all rules with the same left-hand side $ N, (N \\rightarrow \\alpha_1, \\dots, N \\rightarrow \\alpha_K) $ their probabilities must sum to 1:\n",
    "\n",
    "$$\\sum_{k=1}^K p(\\alpha_k \\mid N) = 1 $$"
   ]
  },
  {
   "cell_type": "markdown",
   "metadata": {},
   "source": [
    "# Chomsky normal form (CNF)\n",
    "\n",
    "A grammar is in CNF\n",
    "if every production rule takes one of the following forms:\n",
    "\n",
    "\n",
    "$$X \\rightarrow YZ$$\n",
    "$$X \\rightarrow a$$\n",
    "$$S \\rightarrow \\epsilon$$"
   ]
  },
  {
   "cell_type": "markdown",
   "metadata": {},
   "source": [
    "# CKY Algorithm\n",
    "\n",
    "- The grammar **must** be in Chomsky Normal Form"
   ]
  },
  {
   "cell_type": "markdown",
   "metadata": {},
   "source": []
  }
 ],
 "metadata": {
  "language_info": {
   "name": "python"
  }
 },
 "nbformat": 4,
 "nbformat_minor": 2
}
