{
 "cells": [
  {
   "cell_type": "markdown",
   "metadata": {},
   "source": [
    "# Linear programming\n",
    "\n",
    "A linear program LP is in in the form\n",
    "\n",
    "$$\n",
    "\\text{minimize} \\quad \\bold{c}^T \\bold{x} \\\\\n",
    "\\text{subject to} \\quad A\\bold{x} \\ge \\bold{b} \\\\\\\\\n",
    "\\bold{x}\\geq 0\n",
    "$$\n",
    "\n",
    "Where $\\bold{x}$ is the vector of variables to be determined.\n",
    "\n",
    "\n",
    "An Integer linear program (ILP) is an LP, with the additional constraint of the variables tbd being integers\n",
    "\n",
    "# Solving ILPs is NP-hard\n",
    "\n",
    "So to solve them efficiently, we relax the possibles values for the $x_i$ to be real/fractional"
   ]
  },
  {
   "cell_type": "code",
   "execution_count": null,
   "metadata": {
    "vscode": {
     "languageId": "plaintext"
    }
   },
   "outputs": [],
   "source": []
  },
  {
   "cell_type": "markdown",
   "metadata": {},
   "source": [
    " Given any $n$-vertex graph $G = (V, E)$ and integer $k \\geq 1$,\n",
    " \n",
    " there is a polynomial time algorithm that computes a graph $H \\subseteq G$ with $\\Omega(n^{1+1/k})$ edges\n",
    " \n",
    " such that for every $u, v \\in V$,\n",
    "\n",
    "$$\n",
    "d_G(u, v) \\leq d_H(u, v) \\leq (2k - 1) d_G(u, v).\n",
    "$$"
   ]
  },
  {
   "cell_type": "markdown",
   "metadata": {},
   "source": [
    "# Girth of a graph\n",
    "\n",
    "Minimum number of edges on any cycle in G\n",
    "\n",
    "# Sparsifiers that preserve distances\n",
    "\n",
    "Spanners"
   ]
  },
  {
   "cell_type": "markdown",
   "metadata": {},
   "source": [
    "### Useful Inequalities\n",
    "\n",
    "- $$ \\left( \\frac{n}{k} \\right)^k \\leq \\binom{n}{k} \\leq \\left( \\frac{en}{k} \\right)^k $$\n",
    "- $$ \\binom{n}{k} \\leq n^k $$\n",
    "- $$ \\lim_{n \\to \\infty} \\left( 1 - \\frac{1}{n} \\right)^n = e^{-1} $$\n",
    "- $$ \\sum_{i=1}^{\\infty} \\frac{1}{i^2} = \\frac{\\pi^2}{6} $$\n",
    "- $$ 1 - x \\leq e^{-x}, \\text{ for any } x $$\n",
    "- $$ (1 + 2x) \\geq e^x, \\text{ for } x \\in [0, 1] $$\n",
    "- $$ \\left( 1 + \\frac{x}{2} \\right) \\geq e^x, \\text{ for } x \\in [-1, 0] $$\n",
    "- $$ (1 - x) \\geq e^{-x - x^2}, \\text{ for } x \\in \\left( 0, \\frac{1}{2} \\right) $$\n",
    "- $$ \\frac{1}{1 - x} \\leq 1 + 2x, \\text{ for } x \\leq \\frac{1}{2} $$\n",
    "\n",
    "---\n",
    "\n",
    "### Theorem (Linearity of Expectation).\n",
    "\n",
    "$$\n",
    "\\mathbb{E} \\left( \\sum_{i=1}^{n} a_i X_i \\right) = \\sum_{i=1}^{n} a_i \\mathbb{E}(X_i)\n",
    "$$\n",
    "\n",
    "---\n",
    "\n",
    "### Theorem (Variance).\n",
    "\n",
    "$$\n",
    "\\mathbb{V}(X) = \\mathbb{E}(X^2) - \\mathbb{E}(X)^2\n",
    "$$\n",
    "\n",
    "---\n",
    "\n",
    "### Theorem (Variance of a Sum of Random Variables).\n",
    "\n",
    "$$\n",
    "\\mathbb{V}(aX + bY) = a^2 \\mathbb{V}(X) + b^2 \\mathbb{V}(Y) + 2ab \\operatorname{Cov}(X, Y)\n",
    "$$\n",
    "\n",
    "---\n",
    "\n",
    "### Theorem (AM-GM Inequality). \n",
    "\n",
    "Given $n$ numbers $x_1, x_2, \\dots, x_n$:\n",
    "\n",
    "$$\n",
    "\\frac{x_1 + \\cdots + x_n}{n} \\geq (x_1 \\cdot x_2 \\cdot \\cdots \\cdot x_n)^{1/n}\n",
    "$$\n",
    "\n",
    "The equality holds if and only if $x_1 = \\cdots = x_n$."
   ]
  },
  {
   "cell_type": "markdown",
   "metadata": {},
   "source": [
    "For any $x$, the following inequality holds:\n",
    "\n",
    "$$ 1 - x \\leq e^{-x} $$\n",
    "\n",
    "This can be useful in many mathematical derivations, especially when working with exponentials and approximations.\n",
    "\n",
    "#### Application to Products\n",
    "\n",
    "For a product involving multiple $x_i$ values, we can apply the inequality as follows:\n",
    "\n",
    "$$ \\prod_{i} e^{-x_i} = e^{-\\sum x_i} $$\n",
    "\n",
    "#### Special Case: When $x \\leq 1$\n",
    "\n",
    "When $x \\leq 1$, we have a stricter inequality:\n",
    "\n",
    "$$ 1 - x \\geq e^{1 - x} $$\n",
    "\n",
    "This can be used in cases where $x$ is bounded by 1 or smaller.\n"
   ]
  }
 ],
 "metadata": {
  "language_info": {
   "name": "python"
  }
 },
 "nbformat": 4,
 "nbformat_minor": 2
}
